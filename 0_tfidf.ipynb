{
  "nbformat": 4,
  "nbformat_minor": 0,
  "metadata": {
    "kernelspec": {
      "display_name": "Python 3",
      "language": "python",
      "name": "python3"
    },
    "language_info": {
      "codemirror_mode": {
        "name": "ipython",
        "version": 3
      },
      "file_extension": ".py",
      "mimetype": "text/x-python",
      "name": "python",
      "nbconvert_exporter": "python",
      "pygments_lexer": "ipython3",
      "version": "3.6.6"
    },
    "colab": {
      "name": "0-tfidf.ipynb",
      "provenance": [],
      "collapsed_sections": []
    }
  },
  "cells": [
    {
      "cell_type": "code",
      "metadata": {
        "id": "3OOAe9APM4Vb",
        "colab_type": "code",
        "colab": {}
      },
      "source": [
        "import os\n",
        "import pandas as pd"
      ],
      "execution_count": 0,
      "outputs": []
    },
    {
      "cell_type": "code",
      "metadata": {
        "id": "9YIbvk-_NPJ9",
        "colab_type": "code",
        "outputId": "35240165-63f4-40d3-e24e-50fb6f035cc6",
        "colab": {
          "base_uri": "https://localhost:8080/",
          "height": 141
        }
      },
      "source": [
        "# If you want to run the model on Google Colab\n",
        "# Make sure the repository is in the root folder of the drive\n",
        "from google.colab import drive\n",
        "drive.mount('/content/drive')\n",
        "% cd /content/drive/My Drive/offenseval-2020-ASU_OPTO"
      ],
      "execution_count": 2,
      "outputs": [
        {
          "output_type": "stream",
          "text": [
            "Go to this URL in a browser: https://accounts.google.com/o/oauth2/auth?client_id=947318989803-6bn6qk8qdgf4n4g3pfee6491hc0brc4i.apps.googleusercontent.com&redirect_uri=urn%3aietf%3awg%3aoauth%3a2.0%3aoob&response_type=code&scope=email%20https%3a%2f%2fwww.googleapis.com%2fauth%2fdocs.test%20https%3a%2f%2fwww.googleapis.com%2fauth%2fdrive%20https%3a%2f%2fwww.googleapis.com%2fauth%2fdrive.photos.readonly%20https%3a%2f%2fwww.googleapis.com%2fauth%2fpeopleapi.readonly\n",
            "\n",
            "Enter your authorization code:\n",
            "··········\n",
            "Mounted at /content/drive\n",
            "/content/drive/My Drive/offenseval-2020-ASU_OPTO\n"
          ],
          "name": "stdout"
        }
      ]
    },
    {
      "cell_type": "markdown",
      "metadata": {
        "id": "75vOAj0wM4Vn",
        "colab_type": "text"
      },
      "source": [
        "# Build the model"
      ]
    },
    {
      "cell_type": "code",
      "metadata": {
        "id": "1tNYqyqqM4Vo",
        "colab_type": "code",
        "colab": {}
      },
      "source": [
        "from models.tfidfmodel import tfidfModel"
      ],
      "execution_count": 0,
      "outputs": []
    },
    {
      "cell_type": "code",
      "metadata": {
        "id": "kWRCO4jKM4Vt",
        "colab_type": "code",
        "outputId": "a8b92e70-f47d-497c-90d9-d24fa8ad1d9d",
        "colab": {
          "base_uri": "https://localhost:8080/",
          "height": 34
        }
      },
      "source": [
        "from utils import load_data, load_lev_data, load_tun_data, seed_all\n",
        "\n",
        "train_df = load_data('data/offenseval/offenseval-ar-training-v1.tsv')\n",
        "dev_df = load_data('data/offenseval/offenseval-ar-dev-v1.tsv')\n",
        "\n",
        "train_df.shape, dev_df.shape"
      ],
      "execution_count": 4,
      "outputs": [
        {
          "output_type": "execute_result",
          "data": {
            "text/plain": [
              "((7000, 3), (1000, 3))"
            ]
          },
          "metadata": {
            "tags": []
          },
          "execution_count": 4
        }
      ]
    },
    {
      "cell_type": "code",
      "metadata": {
        "id": "IU8XV0xpM4Vy",
        "colab_type": "code",
        "colab": {}
      },
      "source": [
        "seed_all(42)\n",
        "model = tfidfModel()\n",
        "model.fit(train_df)"
      ],
      "execution_count": 0,
      "outputs": []
    },
    {
      "cell_type": "code",
      "metadata": {
        "id": "aVxGmQLbM4V4",
        "colab_type": "code",
        "outputId": "60420d83-9026-4a1c-f063-ccebf9f33476",
        "colab": {
          "base_uri": "https://localhost:8080/",
          "height": 34
        }
      },
      "source": [
        "model.f1_score(train_df)"
      ],
      "execution_count": 6,
      "outputs": [
        {
          "output_type": "execute_result",
          "data": {
            "text/plain": [
              "0.5089567966280295"
            ]
          },
          "metadata": {
            "tags": []
          },
          "execution_count": 6
        }
      ]
    },
    {
      "cell_type": "code",
      "metadata": {
        "id": "QINdLmVhM4V-",
        "colab_type": "code",
        "outputId": "b0008c8d-8b9c-4329-af79-9663091dfec2",
        "colab": {
          "base_uri": "https://localhost:8080/",
          "height": 34
        }
      },
      "source": [
        "model.f1_score(dev_df)"
      ],
      "execution_count": 7,
      "outputs": [
        {
          "output_type": "execute_result",
          "data": {
            "text/plain": [
              "0.4052863436123348"
            ]
          },
          "metadata": {
            "tags": []
          },
          "execution_count": 7
        }
      ]
    },
    {
      "cell_type": "code",
      "metadata": {
        "id": "GerbIBqtKeEZ",
        "colab_type": "code",
        "outputId": "797f20d2-7cf3-4097-8b42-35b8f75d6947",
        "colab": {
          "base_uri": "https://localhost:8080/",
          "height": 173
        }
      },
      "source": [
        "_ = model.classification_report(train_df)"
      ],
      "execution_count": 8,
      "outputs": [
        {
          "output_type": "stream",
          "text": [
            "              precision    recall  f1-score   support\n",
            "\n",
            "           0      0.858     0.999     0.923      5590\n",
            "           1      0.990     0.343     0.509      1410\n",
            "\n",
            "    accuracy                          0.867      7000\n",
            "   macro avg      0.924     0.671     0.716      7000\n",
            "weighted avg      0.884     0.867     0.840      7000\n",
            "\n"
          ],
          "name": "stdout"
        }
      ]
    },
    {
      "cell_type": "code",
      "metadata": {
        "id": "ZMuEGF1hKiC2",
        "colab_type": "code",
        "outputId": "17c77da8-2f1f-40b6-e78c-37c92fc9cd5a",
        "colab": {
          "base_uri": "https://localhost:8080/",
          "height": 173
        }
      },
      "source": [
        "_ = model.classification_report(dev_df)"
      ],
      "execution_count": 9,
      "outputs": [
        {
          "output_type": "stream",
          "text": [
            "              precision    recall  f1-score   support\n",
            "\n",
            "           0      0.860     0.998     0.924       821\n",
            "           1      0.958     0.257     0.405       179\n",
            "\n",
            "    accuracy                          0.865      1000\n",
            "   macro avg      0.909     0.627     0.665      1000\n",
            "weighted avg      0.878     0.865     0.831      1000\n",
            "\n"
          ],
          "name": "stdout"
        }
      ]
    },
    {
      "cell_type": "markdown",
      "metadata": {
        "id": "WDBTzmusM4WC",
        "colab_type": "text"
      },
      "source": [
        "# Future Work\n",
        "- Check the most important features for the logistic regression model\n",
        "`pipeline.steps[0][-1].vocabulary_`"
      ]
    }
  ]
}