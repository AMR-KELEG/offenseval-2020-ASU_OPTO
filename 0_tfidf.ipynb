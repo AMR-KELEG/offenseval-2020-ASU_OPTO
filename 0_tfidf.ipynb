{
  "nbformat": 4,
  "nbformat_minor": 0,
  "metadata": {
    "kernelspec": {
      "display_name": "Python 3",
      "language": "python",
      "name": "python3"
    },
    "language_info": {
      "codemirror_mode": {
        "name": "ipython",
        "version": 3
      },
      "file_extension": ".py",
      "mimetype": "text/x-python",
      "name": "python",
      "nbconvert_exporter": "python",
      "pygments_lexer": "ipython3",
      "version": "3.6.6"
    },
    "colab": {
      "name": "0-tfidf.ipynb",
      "provenance": [],
      "collapsed_sections": []
    }
  },
  "cells": [
    {
      "cell_type": "code",
      "metadata": {
        "id": "3OOAe9APM4Vb",
        "colab_type": "code",
        "colab": {}
      },
      "source": [
        "import os\n",
        "import pandas as pd"
      ],
      "execution_count": 0,
      "outputs": []
    },
    {
      "cell_type": "code",
      "metadata": {
        "id": "9YIbvk-_NPJ9",
        "colab_type": "code",
        "outputId": "9cd0e00b-4e36-44ed-a336-32bab63c8645",
        "colab": {
          "base_uri": "https://localhost:8080/",
          "height": 141
        }
      },
      "source": [
        "# If you want to run the model on Google Colab\n",
        "# Make sure the repository is in the root folder of the drive\n",
        "from google.colab import drive\n",
        "drive.mount('/content/drive')\n",
        "% cd /content/drive/My Drive/offenseval-2020-ASU_OPTO"
      ],
      "execution_count": 2,
      "outputs": [
        {
          "output_type": "stream",
          "text": [
            "Go to this URL in a browser: https://accounts.google.com/o/oauth2/auth?client_id=947318989803-6bn6qk8qdgf4n4g3pfee6491hc0brc4i.apps.googleusercontent.com&redirect_uri=urn%3aietf%3awg%3aoauth%3a2.0%3aoob&response_type=code&scope=email%20https%3a%2f%2fwww.googleapis.com%2fauth%2fdocs.test%20https%3a%2f%2fwww.googleapis.com%2fauth%2fdrive%20https%3a%2f%2fwww.googleapis.com%2fauth%2fdrive.photos.readonly%20https%3a%2f%2fwww.googleapis.com%2fauth%2fpeopleapi.readonly\n",
            "\n",
            "Enter your authorization code:\n",
            "··········\n",
            "Mounted at /content/drive\n",
            "/content/drive/My Drive/offenseval-2020-ASU_OPTO\n"
          ],
          "name": "stdout"
        }
      ]
    },
    {
      "cell_type": "markdown",
      "metadata": {
        "id": "75vOAj0wM4Vn",
        "colab_type": "text"
      },
      "source": [
        "# Build the model"
      ]
    },
    {
      "cell_type": "code",
      "metadata": {
        "id": "1tNYqyqqM4Vo",
        "colab_type": "code",
        "colab": {
          "base_uri": "https://localhost:8080/",
          "height": 63
        },
        "outputId": "e1e5b7f2-7b93-4b38-b4c2-aca3dab330f0"
      },
      "source": [
        "from models.tfidfmodel import tfidfModel"
      ],
      "execution_count": 3,
      "outputs": [
        {
          "output_type": "display_data",
          "data": {
            "text/html": [
              "<p style=\"color: red;\">\n",
              "The default version of TensorFlow in Colab will soon switch to TensorFlow 2.x.<br>\n",
              "We recommend you <a href=\"https://www.tensorflow.org/guide/migrate\" target=\"_blank\">upgrade</a> now \n",
              "or ensure your notebook will continue to use TensorFlow 1.x via the <code>%tensorflow_version 1.x</code> magic:\n",
              "<a href=\"https://colab.research.google.com/notebooks/tensorflow_version.ipynb\" target=\"_blank\">more info</a>.</p>\n"
            ],
            "text/plain": [
              "<IPython.core.display.HTML object>"
            ]
          },
          "metadata": {
            "tags": []
          }
        }
      ]
    },
    {
      "cell_type": "code",
      "metadata": {
        "id": "kWRCO4jKM4Vt",
        "colab_type": "code",
        "outputId": "517858d9-0c54-4ba8-b0f9-b2d842829e3f",
        "colab": {
          "base_uri": "https://localhost:8080/",
          "height": 34
        }
      },
      "source": [
        "from utils import load_data, load_lev_data, load_tun_data, seed_all\n",
        "\n",
        "train_df = load_data('data/offenseval/offenseval-ar-training-v1.tsv')\n",
        "dev_df = load_data('data/offenseval/offenseval-ar-dev-v1.tsv')\n",
        "\n",
        "train_df.shape, dev_df.shape"
      ],
      "execution_count": 4,
      "outputs": [
        {
          "output_type": "execute_result",
          "data": {
            "text/plain": [
              "((7000, 3), (1000, 3))"
            ]
          },
          "metadata": {
            "tags": []
          },
          "execution_count": 4
        }
      ]
    },
    {
      "cell_type": "code",
      "metadata": {
        "id": "IU8XV0xpM4Vy",
        "colab_type": "code",
        "colab": {}
      },
      "source": [
        "seed_all(42)\n",
        "model = tfidfModel()\n",
        "model.fit(train_df)"
      ],
      "execution_count": 0,
      "outputs": []
    },
    {
      "cell_type": "code",
      "metadata": {
        "id": "aVxGmQLbM4V4",
        "colab_type": "code",
        "outputId": "191423da-b707-4b99-a195-ada053a8ee2d",
        "colab": {
          "base_uri": "https://localhost:8080/",
          "height": 34
        }
      },
      "source": [
        "model.f1_score(train_df)"
      ],
      "execution_count": 6,
      "outputs": [
        {
          "output_type": "execute_result",
          "data": {
            "text/plain": [
              "0.620420127015144"
            ]
          },
          "metadata": {
            "tags": []
          },
          "execution_count": 6
        }
      ]
    },
    {
      "cell_type": "code",
      "metadata": {
        "id": "QINdLmVhM4V-",
        "colab_type": "code",
        "outputId": "90450d2b-7965-4f03-8ec2-19a83fbcbd78",
        "colab": {
          "base_uri": "https://localhost:8080/",
          "height": 34
        }
      },
      "source": [
        "model.f1_score(dev_df)"
      ],
      "execution_count": 7,
      "outputs": [
        {
          "output_type": "execute_result",
          "data": {
            "text/plain": [
              "0.5555555555555556"
            ]
          },
          "metadata": {
            "tags": []
          },
          "execution_count": 7
        }
      ]
    },
    {
      "cell_type": "code",
      "metadata": {
        "id": "GerbIBqtKeEZ",
        "colab_type": "code",
        "outputId": "96151565-67b5-456b-9f87-760827e5722f",
        "colab": {
          "base_uri": "https://localhost:8080/",
          "height": 173
        }
      },
      "source": [
        "_ = model.classification_report(train_df)"
      ],
      "execution_count": 8,
      "outputs": [
        {
          "output_type": "stream",
          "text": [
            "              precision    recall  f1-score   support\n",
            "\n",
            "           0      0.878     1.000     0.935      5590\n",
            "           1      0.997     0.450     0.620      1410\n",
            "\n",
            "    accuracy                          0.889      7000\n",
            "   macro avg      0.938     0.725     0.778      7000\n",
            "weighted avg      0.902     0.889     0.872      7000\n",
            "\n"
          ],
          "name": "stdout"
        }
      ]
    },
    {
      "cell_type": "code",
      "metadata": {
        "id": "ZMuEGF1hKiC2",
        "colab_type": "code",
        "outputId": "b1ef3ea5-be7a-43f5-81d1-027e4d287b1e",
        "colab": {
          "base_uri": "https://localhost:8080/",
          "height": 173
        }
      },
      "source": [
        "_ = model.classification_report(dev_df)"
      ],
      "execution_count": 9,
      "outputs": [
        {
          "output_type": "stream",
          "text": [
            "              precision    recall  f1-score   support\n",
            "\n",
            "           0      0.882     0.996     0.936       821\n",
            "           1      0.959     0.391     0.556       179\n",
            "\n",
            "    accuracy                          0.888      1000\n",
            "   macro avg      0.921     0.694     0.746      1000\n",
            "weighted avg      0.896     0.888     0.868      1000\n",
            "\n"
          ],
          "name": "stdout"
        }
      ]
    },
    {
      "cell_type": "markdown",
      "metadata": {
        "id": "WDBTzmusM4WC",
        "colab_type": "text"
      },
      "source": [
        "# Future Work\n",
        "- Check the most important features for the logistic regression model\n",
        "`pipeline.steps[0][-1].vocabulary_`"
      ]
    }
  ]
}